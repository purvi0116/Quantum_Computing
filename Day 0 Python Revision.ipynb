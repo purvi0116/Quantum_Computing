{
  "cells": [
    {
      "cell_type": "markdown",
      "metadata": {
        "colab_type": "text",
        "id": "9WknV6SXYa5J"
      },
      "source": "# Introduction to Python and Jupyter notebooks\n\nThis notebook just provides a small introduction to python which you will be requiring for this bootcamp. This is not a compulsory notebook and if you are already experienced with python you can jump right into the notebook for day 1.\n\nThe main aim of this notebook is to familarize you with python syntax and also introduce the package numpy. If you are running this on colab you will not need any additional installations and this will also run if you are using Jupyter Anoconda. We do suggest using the IBM Q experience for future notebooks as you will require qiskit and its smoother to run it on IBM Q rather than all the installation. \nTo setup an IBM Q account refer https://quantum-computing.ibm.com/login. \nFor installing qiskit refer this https://qiskit.org/documentation/install.html\nIf you have any doubts, feel free to drop them on the telegram group.\nYou can find more support here https://quantum-computing.ibm.com/support"
    },
    {
      "cell_type": "markdown",
      "metadata": {
        "colab_type": "text",
        "id": "akwjz2EcYa5K"
      },
      "source": "## Variables, types and declarations"
    },
    {
      "cell_type": "code",
      "execution_count": 1,
      "metadata": {
        "colab": {},
        "colab_type": "code",
        "id": "b5wehc6nYa5K",
        "trusted": true
      },
      "outputs": [
        {
          "name": "stdout",
          "output_type": "stream",
          "text": "2\n<class 'int'>\n"
        }
      ],
      "source": "#Declaring variables\na = 2 \nprint(a)\nprint(type(a)) #This is an integer "
    },
    {
      "cell_type": "code",
      "execution_count": 2,
      "metadata": {
        "colab": {},
        "colab_type": "code",
        "id": "CdZgNOe9Ya5O",
        "trusted": true
      },
      "outputs": [
        {
          "name": "stdout",
          "output_type": "stream",
          "text": "True\n<class 'bool'>\n"
        }
      ],
      "source": "#True and False are special keywords in python\nboolean = True\nprint(boolean)\nprint(type(boolean))"
    },
    {
      "cell_type": "code",
      "execution_count": 3,
      "metadata": {
        "colab": {},
        "colab_type": "code",
        "id": "4FC2xjMdYa5Q",
        "trusted": true
      },
      "outputs": [
        {
          "name": "stdout",
          "output_type": "stream",
          "text": "(0.07+0.08j)\n<class 'complex'>\n"
        }
      ],
      "source": "#Here 7e-2 is 7x10^-2 and the 1j actually is the square root of -1\nb = 7e-2 + (8e-2)*1j\nprint(b)\nprint(type(b)) # This is a complex number"
    },
    {
      "cell_type": "code",
      "execution_count": 4,
      "metadata": {
        "colab": {},
        "colab_type": "code",
        "id": "NqL0ltTYYa5S",
        "trusted": true
      },
      "outputs": [
        {
          "name": "stdout",
          "output_type": "stream",
          "text": "7.2\n<class 'float'>\n"
        }
      ],
      "source": "#We will now try to re initiallize variable a and it will change its class\na = 7.2\nprint(a)\nprint(type(a)) #this is a float"
    },
    {
      "cell_type": "code",
      "execution_count": 5,
      "metadata": {
        "colab": {},
        "colab_type": "code",
        "id": "C_t1yqZWYa5V",
        "trusted": true
      },
      "outputs": [
        {
          "name": "stdout",
          "output_type": "stream",
          "text": "a word\n<class 'str'>\n"
        }
      ],
      "source": "string = \"a word\"\nprint(string)\nprint(type(string))"
    },
    {
      "cell_type": "code",
      "execution_count": 6,
      "metadata": {
        "colab": {},
        "colab_type": "code",
        "id": "KWkMTXM7Ya5X",
        "trusted": true
      },
      "outputs": [
        {
          "name": "stdout",
          "output_type": "stream",
          "text": "7.2\n<class 'str'>\nTrue\n<class 'bool'>\n"
        }
      ],
      "source": "#Type conversions can be done too\na_s = str(a)\nbool3 = bool(a)\nprint(a_s)\nprint(type(a_s))\nprint(bool3)\nprint(type(bool3))"
    },
    {
      "cell_type": "code",
      "execution_count": 7,
      "metadata": {
        "colab": {},
        "colab_type": "code",
        "id": "YirmSQWJYa5Z",
        "trusted": true
      },
      "outputs": [
        {
          "name": "stdout",
          "output_type": "stream",
          "text": "[1, 2, 3, 4, 5, 6, 'word']\n<class 'list'>\n{1: 3, 'k': 'f'}\n<class 'dict'>\n(1, 2, 4, 5, 0, -1, {1: 3, 'k': 'f'})\n<class 'tuple'>\n"
        }
      ],
      "source": "#we also have lists, dictionaries and tuples\nlist1 = [1,2,3,4,5,6,\"word\"] # A list. Same as an array and is dynamic in length\ndict1 = {1: 3, 'k':'f'} #A dictionary. This maps the first one as index to the second term as value\ntuple1 = (1,2,4,5,0,-1,dict1) #A tuple. This is a collection of objects which get reordered are cannot be changed once assigned (immutable)\nprint(list1)\nprint(type(list1))\nprint(dict1)\nprint(type(dict1))\nprint(tuple1)\nprint(type(tuple1))"
    },
    {
      "cell_type": "markdown",
      "metadata": {
        "colab_type": "text",
        "id": "mntc2ZJxYa5b"
      },
      "source": "All of these are indexed exactly like arrays are but there is a special feature of python where it also takes negative indices and uses them to count backwards so <code>list[-1]</code> will have value \"a\". In dictionary the index has to be one of the terms present before the colon and that maps to the term after the colon and you will see how."
    },
    {
      "cell_type": "code",
      "execution_count": 8,
      "metadata": {
        "colab": {},
        "colab_type": "code",
        "id": "Q7ExVLTEYa5c",
        "trusted": true
      },
      "outputs": [
        {
          "name": "stdout",
          "output_type": "stream",
          "text": "word\nf\n"
        }
      ],
      "source": "print(list1[-1])#Prints last index\nprint(dict1['k'])#Prints the mapped value to 'k'"
    },
    {
      "cell_type": "markdown",
      "metadata": {
        "colab_type": "text",
        "id": "e5HVIIYrYa5e"
      },
      "source": "A list of lists is essentially a 2 dimensional list and we can go on for as many dimensions as we like (as long as we dont run out of memory)."
    },
    {
      "cell_type": "markdown",
      "metadata": {
        "colab_type": "text",
        "id": "d4BpiMaoYa5e"
      },
      "source": "## Conditional statements and loops\n\nWe can use keywords like <code>is, in</code> and also <code>and, or, not</code> for analyzing the truth of a statement. The <code>is</code> tells us if two values are the same. The <code>in</code> tells us if a certain value is present in the other (like whether there is a certain value present in a list). The <code>and, or, not</code> are simply the bitwise operators of AND, OR, NOT."
    },
    {
      "cell_type": "code",
      "execution_count": 9,
      "metadata": {
        "colab": {},
        "colab_type": "code",
        "id": "d5OX87cEYa5f",
        "trusted": true
      },
      "outputs": [
        {
          "name": "stdout",
          "output_type": "stream",
          "text": "True\nFalse\nTrue\nTrue\n"
        }
      ],
      "source": "#Using is\nvar1 = 78\ntuple2 = (1,2,4,5,0,-1,dict1)\nprint(var1 is 78)#This will be true\nprint(tuple1 is tuple2)#This will be false since tuples,lists and dicts essentially are addresses\n                       #Hence even when they have same value, is requires also same addresses\nprint(tuple1 == tuple2)#This shows true since == checks equality in values\nprint(tuple1[-1] is tuple1[-1])#This is true since these both point to the same variable"
    },
    {
      "cell_type": "code",
      "execution_count": null,
      "metadata": {
        "colab": {},
        "colab_type": "code",
        "id": "n5Gh1ysTYa5h",
        "trusted": true
      },
      "outputs": [],
      "source": "var2 = 1\nprint(var2 in list1)#Shows true since var2 is infact in this list"
    },
    {
      "cell_type": "code",
      "execution_count": 10,
      "metadata": {
        "colab": {},
        "colab_type": "code",
        "id": "JEFGVWwRYa5j",
        "trusted": true
      },
      "outputs": [
        {
          "name": "stdout",
          "output_type": "stream",
          "text": "False\nTrue\nTrue\n"
        }
      ],
      "source": "bool1 = True\nbool2 = False\nprint(bool1 and bool2)\nprint(bool1 or bool2)\nprint(not bool2)"
    },
    {
      "cell_type": "markdown",
      "metadata": {
        "colab_type": "text",
        "id": "RSTEawk_Ya5l"
      },
      "source": "<code>if</code> statements do a task if a certain statement is true and the following <code>elif</code> executes if thi statement wasnt true but another mentiones one is. If none of the statements come true the it will go to <code>else</code>."
    },
    {
      "cell_type": "code",
      "execution_count": 11,
      "metadata": {
        "colab": {},
        "colab_type": "code",
        "id": "5IsiruFwYa5m",
        "trusted": true
      },
      "outputs": [
        {
          "name": "stdout",
          "output_type": "stream",
          "text": "bool1 is true\n"
        }
      ],
      "source": "if bool1:\n    print('bool1 is true')#This one is executed as per our declarations \nelif not bool2:\n    print('bool2 is false and so is bool1')#This one isnt reached\nelse:\n    print('bool1 is false but bool2 is true')#This one isnt reached"
    },
    {
      "cell_type": "markdown",
      "metadata": {
        "colab_type": "text",
        "id": "oaOO2hIdYa5o"
      },
      "source": "For looping we have the <code>for</code> loop which runs for a fixed number of iterations unless <code>break</code> is not mentioned anywhere. It iterates over a variable from a range or even from a list. There also is the <code>while</code> loop which executes as long as a certain statement is true."
    },
    {
      "cell_type": "code",
      "execution_count": null,
      "metadata": {
        "colab": {},
        "colab_type": "code",
        "id": "dEJpv580Ya5o",
        "trusted": true
      },
      "outputs": [],
      "source": "for i in list1:\n    print(i)"
    },
    {
      "cell_type": "code",
      "execution_count": 12,
      "metadata": {
        "colab": {},
        "colab_type": "code",
        "id": "-Wt9171aYa5q",
        "trusted": true
      },
      "outputs": [
        {
          "name": "stdout",
          "output_type": "stream",
          "text": "0\n1\n2\n3\n4\n5\n6\n7\n8\n9\n  \n1\n2\n3\n4\n5\n6\n7\n8\n9\n"
        }
      ],
      "source": "for i in range(10):#iterates over numbers 0 to 9 both included\n    print(i)\nprint(\"  \")\nfor i in range(1,10):#iterates over numbers 1 to 9 both included\n    print(i)"
    },
    {
      "cell_type": "code",
      "execution_count": 13,
      "metadata": {
        "colab": {},
        "colab_type": "code",
        "id": "Pt44rlt4Ya5s",
        "trusted": true
      },
      "outputs": [
        {
          "name": "stdout",
          "output_type": "stream",
          "text": "1 3\nk f\n"
        }
      ],
      "source": "for k,d in dict1.items():\n    print(k,d)"
    },
    {
      "cell_type": "code",
      "execution_count": null,
      "metadata": {
        "colab": {},
        "colab_type": "code",
        "id": "T8bYxIolYa5u",
        "trusted": true
      },
      "outputs": [],
      "source": "g = 100\nwhile(g > 0):\n    g = g//2#This returns the integer division of g\n    print(g)"
    },
    {
      "cell_type": "markdown",
      "metadata": {
        "colab_type": "text",
        "id": "_Nc1cjHJYa5w"
      },
      "source": "## Defining functions and using packages\n\nFunctions take arguments, do a task and may or may not return a value. Functions help in keeping your code clean so its always better to use them as much as required.\n\nIn this bootcamp you will be using the qiskit package which has various classes and functions in them which help us emulate a quantum computer and there are also ways by which we can call a backend to use one of their actual computers for an experiment or circuit that we have constructed. You will see this all in detail soon.\n\nOne of the most important and useful package you wil be using is the numpy package."
    },
    {
      "cell_type": "code",
      "execution_count": null,
      "metadata": {
        "colab": {},
        "colab_type": "code",
        "id": "KajSLwGvYa5x",
        "trusted": true
      },
      "outputs": [],
      "source": "def myfunc(a):#takes an input of a\n    return a*2 #returns the double of a\n\nprint(myfunc(2))#Calls function giving 2 as input\nprint(myfunc(3.4 + 4j))\nprint(myfunc(list1))"
    },
    {
      "cell_type": "code",
      "execution_count": 14,
      "metadata": {
        "colab": {},
        "colab_type": "code",
        "id": "C9FJ4WpMYa5z",
        "trusted": true
      },
      "outputs": [
        {
          "name": "stdout",
          "output_type": "stream",
          "text": "34\n105\n"
        }
      ],
      "source": "def myfunc2(*args):# we use *args when we do not know how many arguments will be sent\n    s = 0\n    for i in args:\n        s = s + i\n    return s\nprint(myfunc2(34))\nprint(myfunc2(34,35,36))"
    },
    {
      "cell_type": "code",
      "execution_count": 15,
      "metadata": {
        "colab": {},
        "colab_type": "code",
        "id": "DWlODhoKYa51",
        "trusted": true
      },
      "outputs": [
        {
          "name": "stdout",
          "output_type": "stream",
          "text": "x1 1\nx2 abcd\nx3 [1, 2, 3, 4, 5, 6, 'word']\n"
        }
      ],
      "source": "def myfunc3(**kwargs):#we use **kwargs when we are to receive unkown number of keyword arguments\n                      #A keyword argument is where you provide a name to the variable as you pass it into the function.\n    for i,j in kwargs.items():\n        print(i,j)\nmyfunc3(x1 = 1, x2 = \"abcd\", x3 = list1)"
    },
    {
      "cell_type": "markdown",
      "metadata": {
        "colab_type": "text",
        "id": "ibih8A3yYa53"
      },
      "source": "A lambda function is a small anonymous function.\nA lambda function can take any number of arguments, but can only have one expression.\nThis makes them very powerful tools by themselves."
    },
    {
      "cell_type": "code",
      "execution_count": 16,
      "metadata": {
        "colab": {},
        "colab_type": "code",
        "id": "p7Thuu7WYa53",
        "trusted": true
      },
      "outputs": [
        {
          "name": "stdout",
          "output_type": "stream",
          "text": "[1, 2, 3, 4, 5, 6, 'word', 1, 2, 3, 4, 5, 6, 'word']\n"
        }
      ],
      "source": "add = lambda a,b: a+b #A lamda function takes arguments and returns only one value\n\nprint(add(list1,list1)) #essentially adds the list to itself"
    },
    {
      "cell_type": "markdown",
      "metadata": {
        "colab_type": "text",
        "id": "8iSgzvaeYa55"
      },
      "source": "We can import numpy using this"
    },
    {
      "cell_type": "code",
      "execution_count": 17,
      "metadata": {
        "colab": {},
        "colab_type": "code",
        "id": "aj_lDo0QYa55",
        "trusted": true
      },
      "outputs": [
        {
          "name": "stdout",
          "output_type": "stream",
          "text": "3.141592653589793\n[[1 3]\n [4 2]]\n(2, 2)\n"
        }
      ],
      "source": "import numpy as np #imports the package numpy and we have renamed it to np so our code looks cleaner\nprint(np.pi)#Good old pi\narr = np.array([[1,3],[4,2]])#Essentially an array and the argument given\nprint(arr)\nprint(arr.shape)#this gives the shape of the arr"
    },
    {
      "cell_type": "code",
      "execution_count": 18,
      "metadata": {
        "colab": {},
        "colab_type": "code",
        "id": "sTXufaz1Ya57",
        "trusted": true
      },
      "outputs": [
        {
          "name": "stdout",
          "output_type": "stream",
          "text": "[[0.3+32.j 0.9+16.j]\n [0.  +9.j 0. +27.j]]\n"
        }
      ],
      "source": "arr2 = np.array([[0.3,8j],[9j,0]])\narr3 = np.matmul(arr2,arr)#this will give the matrix multiplication of arr2*arr\nprint(arr3)"
    },
    {
      "cell_type": "markdown",
      "metadata": {
        "colab_type": "text",
        "id": "d30y3d6TYa5-"
      },
      "source": "You can find a really great python cheatsheet <a href=\"https://gto76.github.io/python-cheatsheet/\">here</a> for additional reference. Also do visit https://numpy.org/ where you can find a very good documentation of everything that you may need and also along with scipy package you can do as much linear algebra as you may need to using python."
    }
  ],
  "metadata": {
    "colab": {
      "collapsed_sections": [],
      "name": "introduction.ipynb",
      "provenance": []
    },
    "kernelspec": {
      "display_name": "Python 3",
      "language": "python",
      "name": "python3"
    },
    "language_info": {
      "codemirror_mode": {
        "name": "ipython",
        "version": 3
      },
      "file_extension": ".py",
      "mimetype": "text/x-python",
      "name": "python",
      "nbconvert_exporter": "python",
      "pygments_lexer": "ipython3",
      "version": "3.7.8"
    }
  },
  "nbformat": 4,
  "nbformat_minor": 1
}